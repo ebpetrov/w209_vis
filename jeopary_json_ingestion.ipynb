{
  "nbformat": 4,
  "nbformat_minor": 0,
  "metadata": {
    "kernelspec": {
      "name": "python3",
      "display_name": "Python 3"
    },
    "language_info": {
      "codemirror_mode": {
        "name": "ipython",
        "version": 3
      },
      "file_extension": ".py",
      "mimetype": "text/x-python",
      "name": "python",
      "nbconvert_exporter": "python",
      "pygments_lexer": "ipython3",
      "version": "3.7.4"
    },
    "colab": {
      "name": "jeopary_json_ingestion.ipynb",
      "provenance": [],
      "collapsed_sections": [
        "iW3-hS0SqyJ9",
        "g8mRRmbmwTgQ",
        "vH0eDMpewJ4M"
      ],
      "include_colab_link": true
    },
    "accelerator": "GPU"
  },
  "cells": [
    {
      "cell_type": "markdown",
      "metadata": {
        "id": "view-in-github",
        "colab_type": "text"
      },
      "source": [
        "<a href=\"https://colab.research.google.com/github/ebpetrov/w209_vis/blob/master/jeopary_json_ingestion.ipynb\" target=\"_parent\"><img src=\"https://colab.research.google.com/assets/colab-badge.svg\" alt=\"Open In Colab\"/></a>"
      ]
    },
    {
      "cell_type": "markdown",
      "metadata": {
        "id": "mOHKf5qhrCFQ",
        "colab_type": "text"
      },
      "source": [
        "# W209 Final Project\n",
        "## Jeopardy!\n",
        "\n",
        "Data Ingestion and Munging Notebook\n"
      ]
    },
    {
      "cell_type": "markdown",
      "metadata": {
        "id": "O9ZZFGmAqyJ0",
        "colab_type": "text"
      },
      "source": [
        "### A. Import Libraries"
      ]
    },
    {
      "cell_type": "code",
      "metadata": {
        "id": "W0A7QA1-qyJ3",
        "colab_type": "code",
        "colab": {}
      },
      "source": [
        "import io\n",
        "import os\n",
        "import pickle\n",
        "import json\n",
        "import copy\n",
        "\n",
        "import pandas as pd\n",
        "import numpy as np\n",
        "import pandas as pd\n",
        "import nltk\n",
        "\n",
        "import matplotlib.pyplot as plt\n",
        "import matplotlib.patches as mpatches\n",
        "\n",
        "from pandas.io.json import json_normalize # Functions to flatten json\n",
        "from pprint import pprint\n",
        "\n",
        "# Suppress new window for plots\n",
        "%matplotlib inline "
      ],
      "execution_count": 0,
      "outputs": []
    },
    {
      "cell_type": "code",
      "metadata": {
        "id": "pXU1CRCgq-0y",
        "colab_type": "code",
        "colab": {
          "base_uri": "https://localhost:8080/",
          "height": 217
        },
        "outputId": "069c770b-5902-4d84-a6c7-a3abda1af6e3"
      },
      "source": [
        "from nltk.tokenize import word_tokenize\n",
        "from nltk.stem import WordNetLemmatizer\n",
        "from nltk.corpus import wordnet\n",
        "from nltk.corpus import stopwords\n",
        "\n",
        "nltk.download('punkt')\n",
        "nltk.download('wordnet')\n",
        "nltk.download('averaged_perceptron_tagger')\n",
        "nltk.download('stopwords')"
      ],
      "execution_count": 2,
      "outputs": [
        {
          "output_type": "stream",
          "text": [
            "[nltk_data] Downloading package punkt to /root/nltk_data...\n",
            "[nltk_data]   Package punkt is already up-to-date!\n",
            "[nltk_data] Downloading package wordnet to /root/nltk_data...\n",
            "[nltk_data]   Package wordnet is already up-to-date!\n",
            "[nltk_data] Downloading package averaged_perceptron_tagger to\n",
            "[nltk_data]     /root/nltk_data...\n",
            "[nltk_data]   Package averaged_perceptron_tagger is already up-to-\n",
            "[nltk_data]       date!\n",
            "[nltk_data] Downloading package stopwords to /root/nltk_data...\n",
            "[nltk_data]   Package stopwords is already up-to-date!\n"
          ],
          "name": "stdout"
        },
        {
          "output_type": "execute_result",
          "data": {
            "text/plain": [
              "True"
            ]
          },
          "metadata": {
            "tags": []
          },
          "execution_count": 2
        }
      ]
    },
    {
      "cell_type": "code",
      "metadata": {
        "id": "6pdMkMHZrUBg",
        "colab_type": "code",
        "colab": {}
      },
      "source": [
        "from sklearn.model_selection import train_test_split\n",
        "\n",
        "from sklearn.utils.multiclass import unique_labels\n",
        "from sklearn.utils import shuffle\n",
        "\n",
        "from sklearn import metrics\n",
        "from sklearn.metrics import classification_report, confusion_matrix, accuracy_score\n",
        "from sklearn.metrics import roc_curve, roc_auc_score, precision_recall_curve\n",
        "\n",
        "from random import choice"
      ],
      "execution_count": 0,
      "outputs": []
    },
    {
      "cell_type": "code",
      "metadata": {
        "id": "4SO6xJyyrW5o",
        "colab_type": "code",
        "colab": {
          "base_uri": "https://localhost:8080/",
          "height": 55
        },
        "outputId": "f447e0a7-c134-4fe0-e8ca-107d4d4fde3d"
      },
      "source": [
        "from google.colab import files\n",
        "from google.colab import drive\n",
        "drive.mount('/content/drive')"
      ],
      "execution_count": 4,
      "outputs": [
        {
          "output_type": "stream",
          "text": [
            "Drive already mounted at /content/drive; to attempt to forcibly remount, call drive.mount(\"/content/drive\", force_remount=True).\n"
          ],
          "name": "stdout"
        }
      ]
    },
    {
      "cell_type": "markdown",
      "metadata": {
        "id": "iW3-hS0SqyJ9",
        "colab_type": "text"
      },
      "source": [
        "### B. Import JSON Dataset"
      ]
    },
    {
      "cell_type": "code",
      "metadata": {
        "id": "K56U-itRqyJ-",
        "colab_type": "code",
        "colab": {}
      },
      "source": [
        "filename = '/content/drive/My Drive/Colab Notebooks/W209 Final Project/data/all_seasons.json'\n",
        "data_listofdict = json.load(open(filename, 'r', encoding='utf-8'))"
      ],
      "execution_count": 0,
      "outputs": []
    },
    {
      "cell_type": "markdown",
      "metadata": {
        "id": "cAWPaC9GqyKD",
        "colab_type": "text"
      },
      "source": [
        "### C. Functions"
      ]
    },
    {
      "cell_type": "code",
      "metadata": {
        "id": "J3wQPL2zu6DK",
        "colab_type": "code",
        "colab": {}
      },
      "source": [
        "def download_csv(filename):\n",
        "  df_clues.to_csv(filename, index=False)\n",
        "  files.download(filename)\n",
        "  return"
      ],
      "execution_count": 0,
      "outputs": []
    },
    {
      "cell_type": "code",
      "metadata": {
        "id": "FNkvnlg5qyKE",
        "colab_type": "code",
        "colab": {}
      },
      "source": [
        "# Functions\n",
        "def getList_dictkeys(dict):\n",
        "    return list(dict.keys())"
      ],
      "execution_count": 0,
      "outputs": []
    },
    {
      "cell_type": "code",
      "metadata": {
        "id": "-21j4vw-qyKI",
        "colab_type": "code",
        "colab": {}
      },
      "source": [
        "def prt_dict_value_types(dict_name):\n",
        "    list_keys = getList_dictkeys(dict_name)\n",
        "    print()\n",
        "    for i in list_keys:\n",
        "        print(type(dict_name[i]), \"\\t\", i, sep=\"\")\n",
        "    print()\n",
        "    return"
      ],
      "execution_count": 0,
      "outputs": []
    },
    {
      "cell_type": "code",
      "metadata": {
        "id": "B2zofEqtqyKN",
        "colab_type": "code",
        "colab": {}
      },
      "source": [
        "def prt_dict_value_types_2(dict_name):\n",
        "    list_keys = getList_dictkeys(dict_name)\n",
        "    print()\n",
        "    for i in list_keys:\n",
        "        print(type(dict_name[i][0]), \"\\t\", i, sep=\"\")\n",
        "    print()\n",
        "    return"
      ],
      "execution_count": 0,
      "outputs": []
    },
    {
      "cell_type": "code",
      "metadata": {
        "id": "Kg-_ZW8rqyKU",
        "colab_type": "code",
        "colab": {}
      },
      "source": [
        "# https://hackersandslackers.com/extract-data-from-complex-json-python/\n",
        "def extract_values(obj, key):\n",
        "    \"\"\"Pull all values of specified key from nested JSON.\"\"\"\n",
        "    arr = []\n",
        "\n",
        "    def extract(obj, arr, key):\n",
        "        \"\"\"Recursively search for values of key in JSON tree.\"\"\"\n",
        "        if isinstance(obj, dict):\n",
        "            for k, v in obj.items():\n",
        "                if isinstance(v, (dict, list)):\n",
        "                    extract(v, arr, key)\n",
        "                elif k == key:\n",
        "                    arr.append(v)\n",
        "        elif isinstance(obj, list):\n",
        "            for item in obj:\n",
        "                extract(item, arr, key)\n",
        "        return arr\n",
        "\n",
        "    results = extract(obj, arr, key)\n",
        "    return results"
      ],
      "execution_count": 0,
      "outputs": []
    },
    {
      "cell_type": "code",
      "metadata": {
        "id": "E7VAS3oAqyKY",
        "colab_type": "code",
        "colab": {}
      },
      "source": [
        "def flatten_json(y):\n",
        "    out = {}\n",
        "\n",
        "    def flatten(x, name=''):\n",
        "        if type(x) is dict:\n",
        "            for a in x:\n",
        "                flatten(x[a], name + a + '_')\n",
        "        elif type(x) is list:\n",
        "            i = 0\n",
        "            for a in x:\n",
        "                flatten(a, name + str(i) + '_')\n",
        "                i += 1\n",
        "        else:\n",
        "            out[name[:-1]] = x\n",
        "\n",
        "    flatten(y)\n",
        "    return out"
      ],
      "execution_count": 0,
      "outputs": []
    },
    {
      "cell_type": "code",
      "metadata": {
        "id": "6YFJg8JVqyKb",
        "colab_type": "code",
        "colab": {}
      },
      "source": [
        "def flattenColumn(input, column):\n",
        "    '''column is a string of the column's name.\n",
        "    for each value of the column's element (which might be a list),\n",
        "    duplicate the rest of columns at the corresponding row with the (each) value.\n",
        "    '''\n",
        "    column_flat = pd.DataFrame([[i, c_flattened] for i, y in input[column].apply(list).iteritems() for c_flattened in y], columns=['I', column])\n",
        "    column_flat = column_flat.set_index('I')\n",
        "    return input.drop(column, 1).merge(column_flat, left_index=True, right_index=True)"
      ],
      "execution_count": 0,
      "outputs": []
    },
    {
      "cell_type": "code",
      "metadata": {
        "id": "uKhMzEmPqyKd",
        "colab_type": "code",
        "colab": {}
      },
      "source": [
        "def releaseDF(df):\n",
        "    '''\n",
        "    Release dataframe from memory\n",
        "    '''\n",
        "    list_df = [df]\n",
        "    del list_df\n",
        "    return"
      ],
      "execution_count": 0,
      "outputs": []
    },
    {
      "cell_type": "code",
      "metadata": {
        "id": "eKzI5CLGucmO",
        "colab_type": "code",
        "colab": {}
      },
      "source": [
        "def plt_density_hist(data_element, title_xaxis):\n",
        "  # Density plot and histogram\n",
        "  bin_count = 15\n",
        "  x = data_element\n",
        "  x_mu = x.mean()\n",
        "  x_std = x.std()\n",
        "  chart_title = \"Density and Histogram for \" + title_xaxis\n",
        "  chart_xax = title_xaxis\n",
        "  chart_yax = \"Frequency/Density\"\n",
        "\n",
        "  sns.distplot(x, \n",
        "              hist=True, \n",
        "              kde=True, \n",
        "              bins=bin_count, \n",
        "              color = 'darkblue', \n",
        "              hist_kws={'edgecolor':'black'},\n",
        "              kde_kws={'linewidth': 4})\n",
        "\n",
        "  plt.title(chart_title, fontsize=14)\n",
        "  plt.xlabel(chart_xax, fontsize=12)\n",
        "  plt.ylabel(chart_yax, fontsize=12)\n",
        "\n",
        "  x_norm = np.random.normal(loc = x_mu, scale = x_std, size = 5000)\n",
        "  sns.kdeplot(x_norm, color=\"yellow\", shade = True)\n",
        "\n",
        "  plt.show()\n",
        "  return\n",
        "\n",
        "def list_tokens(df_column):\n",
        "  tokens = set()\n",
        "  for i in range(0, len(df_column)):\n",
        "    token_list = word_tokenize(df_column[i])\n",
        "    for j in token_list:\n",
        "      tokens.add(j)\n",
        "  tokens = list(tokens)\n",
        "  tokens.sort()\n",
        "  return tokens\n",
        "\n",
        "# Check for occurence of substrings\n",
        "def check_substrings(df_column, substring):\n",
        "  text_lst = list(df.text_clean)\n",
        "  exceptions = [i for i in text_lst if substring in i]\n",
        "  print(*exceptions, sep = \"\\n\")\n",
        "  return\n",
        "\n",
        "\n",
        "def compare_raw_clean_text(df_raw, df_clean, substring):\n",
        "  if df_raw.str.contains(substring).any():\n",
        "    print(substring, \"occurs in the raw text.\")\n",
        "  else:\n",
        "    print(substring, \"does **NOT** occur in the raw text.\")\n",
        "\n",
        "  print()\n",
        "  if df_clean.str.contains(substring).any():\n",
        "    print(substring, \"occurs in the cleansed text.\")\n",
        "  else:\n",
        "    print(substring, \"does **NOT** occur in the cleansed text.\")\n",
        "  return\n",
        "\n",
        "def get_normalized_embeddings():\n",
        "  return F.normalize(lang_mod.model[0].encoder.weight)\n",
        "\n",
        "def most_similar(token, embs):\n",
        "  idx = data_lm.vocab.itos.index(token)\n",
        "  sims = (embs[idx] @ embs.t()).cpu().detach().numpy()\n",
        "\n",
        "  print(f'Similar to: {token}')\n",
        "  print(\"-\"*34)\n",
        "  for sim_idx in np.argsort(sims)[::-1][1:11]:\n",
        "    print(f'{data_lm.vocab.itos[sim_idx]:<30}{sims[sim_idx]:.02f}')"
      ],
      "execution_count": 0,
      "outputs": []
    },
    {
      "cell_type": "code",
      "metadata": {
        "id": "Q97cqTW83_cV",
        "colab_type": "code",
        "colab": {}
      },
      "source": [
        "# Normalize data using regular expressions\n",
        "def text_normalize(df, text_field):\n",
        "  df[text_field] = df[text_field].str.lower()\n",
        "  df[text_field] = df[text_field].str.replace(r\"[^A-Za-z0-9]\", \" \")\n",
        "  return df"
      ],
      "execution_count": 0,
      "outputs": []
    },
    {
      "cell_type": "code",
      "metadata": {
        "id": "EU1lA0Dj4B6S",
        "colab_type": "code",
        "colab": {}
      },
      "source": [
        "# Remove stop words\n",
        "stop_words = set(stopwords.words('english'))\n",
        "\n",
        "def text_nostops(df, text_field):\n",
        "  df[text_field].apply(lambda x: [item for item in x if item not in stop_words])\n",
        "  return df"
      ],
      "execution_count": 0,
      "outputs": []
    },
    {
      "cell_type": "code",
      "metadata": {
        "id": "H9nlUHxC4FCL",
        "colab_type": "code",
        "colab": {}
      },
      "source": [
        "# Lemmatize clean text\n",
        "lemmatizer = WordNetLemmatizer()\n",
        "\n",
        "def text_lemmatize(df, text_field):\n",
        "  for i in range(0, len(df[text_field])):\n",
        "    df[text_field][i] = lemmatize_sentence(df[text_field][i])\n",
        "  return df"
      ],
      "execution_count": 0,
      "outputs": []
    },
    {
      "cell_type": "code",
      "metadata": {
        "id": "JcJaJAu7BRBB",
        "colab_type": "code",
        "colab": {}
      },
      "source": [
        "def text_dataprep(df, text_field):\n",
        "  df = text_normalize(df, text_field)\n",
        "  df = text_nostops(df, text_field)\n",
        "  df = text_lemmatize(df, text_field)\n",
        "  return df"
      ],
      "execution_count": 0,
      "outputs": []
    },
    {
      "cell_type": "code",
      "metadata": {
        "id": "Gyps01kl4HuZ",
        "colab_type": "code",
        "colab": {}
      },
      "source": [
        "#https://medium.com/@gaurav5430/using-nltk-for-lemmatizing-sentences-c1bfff963258\n",
        "def nltk_tag_to_wordnet_tag(nltk_tag):\n",
        "    if nltk_tag.startswith('J'):\n",
        "        return wordnet.ADJ\n",
        "    elif nltk_tag.startswith('V'):\n",
        "        return wordnet.VERB\n",
        "    elif nltk_tag.startswith('N'):\n",
        "        return wordnet.NOUN\n",
        "    elif nltk_tag.startswith('R'):\n",
        "        return wordnet.ADV\n",
        "    else:          \n",
        "        return None"
      ],
      "execution_count": 0,
      "outputs": []
    },
    {
      "cell_type": "code",
      "metadata": {
        "id": "5OQ0Qu8B4Mdi",
        "colab_type": "code",
        "colab": {}
      },
      "source": [
        "#https://medium.com/@gaurav5430/using-nltk-for-lemmatizing-sentences-c1bfff963258\n",
        "def lemmatize_sentence(sentence):\n",
        "    #tokenize the sentence and find the POS tag for each token\n",
        "    nltk_tagged = nltk.pos_tag(nltk.word_tokenize(sentence))  \n",
        "    #tuple of (token, wordnet_tag)\n",
        "    wordnet_tagged = map(lambda x: (x[0], nltk_tag_to_wordnet_tag(x[1])), nltk_tagged)\n",
        "    lemmatized_sentence = []\n",
        "    for word, tag in wordnet_tagged:\n",
        "        if tag is None:\n",
        "            #if there is no available tag, append the token as is\n",
        "            lemmatized_sentence.append(word)\n",
        "        else:        \n",
        "            #else use the tag to lemmatize the token\n",
        "            lemmatized_sentence.append(lemmatizer.lemmatize(word, tag))\n",
        "    return \" \".join(lemmatized_sentence)"
      ],
      "execution_count": 0,
      "outputs": []
    },
    {
      "cell_type": "code",
      "metadata": {
        "id": "Wpntaxvb0GNh",
        "colab_type": "code",
        "colab": {}
      },
      "source": [
        "def plot_cm(y_true, y_pred, figsize=(8,6)):\n",
        "    cm = confusion_matrix(y_true, y_pred, labels=np.unique(y_true))\n",
        "    cm_sum = np.sum(cm, axis=1, keepdims=True)\n",
        "    cm_perc = cm / cm_sum.astype(float) * 100\n",
        "    annot = np.empty_like(cm).astype(str)\n",
        "    nrows, ncols = cm.shape\n",
        "    for i in range(nrows):\n",
        "        for j in range(ncols):\n",
        "            c = cm[i, j]\n",
        "            p = cm_perc[i, j]\n",
        "            if i == j:\n",
        "                s = cm_sum[i]\n",
        "                annot[i, j] = '%.1f%%\\n%d/%d' % (p, c, s)\n",
        "            elif c == 0:\n",
        "                annot[i, j] = ''\n",
        "            else:\n",
        "                annot[i, j] = '%.1f%%\\n%d' % (p, c)\n",
        "    cm = pd.DataFrame(cm, index=np.unique(y_true), columns=np.unique(y_true))\n",
        "    #cm.index.name = 'Actual Label\\n'\n",
        "    #cm.columns.name = '\\nPredicted Label'\n",
        "    fig, ax = plt.subplots(figsize=figsize)\n",
        "    sns.heatmap(cm, \n",
        "                cmap= \"Blues\", \n",
        "                annot=annot, annot_kws={\"size\": 8}, \n",
        "                fmt='', ax=ax)\n",
        "    ax.set_title('Confusion Matrix\\n\\n', fontsize=14); \n",
        "    ax.set_xlabel('\\n\\nPredicted Label', fontsize=12);\n",
        "    ax.set_ylabel('Actual Label\\n\\n', fontsize=12); \n",
        "    ax.xaxis.set_ticklabels(tick_labels, rotation=0); \n",
        "    ax.yaxis.set_ticklabels(tick_labels, rotation=0);\n",
        "    return"
      ],
      "execution_count": 0,
      "outputs": []
    },
    {
      "cell_type": "markdown",
      "metadata": {
        "id": "X2pBD55ZqyKk",
        "colab_type": "text"
      },
      "source": [
        "### D. Munging"
      ]
    },
    {
      "cell_type": "markdown",
      "metadata": {
        "colab_type": "text",
        "id": "g8mRRmbmwTgQ"
      },
      "source": [
        "#### D.1 Create preliminary master dataframes"
      ]
    },
    {
      "cell_type": "code",
      "metadata": {
        "id": "Z_HuWWCmqyKl",
        "colab_type": "code",
        "colab": {}
      },
      "source": [
        "col_games = ['SeasonName', 'StartDate', 'EndDate', 'SeasonUrl', 'GameId', 'ShowNumber', 'AirDate']\n",
        "col_players = ['GameId', 'Players']\n",
        "col_rounds = ['GameId', 'Rounds']\n",
        "col_gamestate = ['GameId', 'GameState']"
      ],
      "execution_count": 0,
      "outputs": []
    },
    {
      "cell_type": "code",
      "metadata": {
        "id": "Ga-TBLUqqyKp",
        "colab_type": "code",
        "colab": {}
      },
      "source": [
        "df_all_games = pd.DataFrame(columns=col_games)\n",
        "df_all_players = pd.DataFrame(columns=col_players)\n",
        "df_all_rounds = pd.DataFrame(columns=col_rounds)\n",
        "df_all_gamestate = pd.DataFrame(columns=col_gamestate)"
      ],
      "execution_count": 0,
      "outputs": []
    },
    {
      "cell_type": "code",
      "metadata": {
        "id": "dpmZPf6QqyKs",
        "colab_type": "code",
        "colab": {}
      },
      "source": [
        "# Create master dataframes (df_all_games, df_all_players, df_all_rounds, df_all_gamestate)\n",
        "\n",
        "for i in data_listofdict:\n",
        "    season_dict_i = i\n",
        "    \n",
        "    df_i = pd.DataFrame(season_dict_i)\n",
        "    df_i_master = df_i.drop(\"Games\", axis=1).join(pd.DataFrame(df_i.Games.values.tolist()))\n",
        "    \n",
        "    # Clean dataframe\n",
        "    df_i_games = df_i_master.copy(deep=True)\n",
        "    df_i_games = df_i_games[col_games]\n",
        "    df_all_games = df_all_games.append(df_i_games, ignore_index=True)\n",
        "        \n",
        "    df_i_players = df_i_master.copy(deep=True)\n",
        "    df_i_players = df_i_players[col_players]\n",
        "    df_all_players = df_all_players.append(df_i_players, ignore_index=True)\n",
        "    \n",
        "    df_i_rounds = df_i_master.copy(deep=True)\n",
        "    df_i_rounds = df_i_rounds[col_rounds]\n",
        "    df_all_rounds = df_all_rounds.append(df_i_rounds, ignore_index=True)\n",
        "    \n",
        "    df_i_gamestate = df_i_master.copy(deep=True)\n",
        "    df_i_gamestate = df_i_gamestate[col_gamestate]\n",
        "    df_all_gamestate = df_all_gamestate.append(df_i_gamestate, ignore_index=True)\n",
        "\n",
        "# Release unused dataframes from memory\n",
        "list_df = [df_i, df_i_games, df_i_players, df_i_rounds, df_i_gamestate]\n",
        "for i in list_df:\n",
        "    releaseDF(i)"
      ],
      "execution_count": 0,
      "outputs": []
    },
    {
      "cell_type": "code",
      "metadata": {
        "id": "Uy4FxAu8qyKy",
        "colab_type": "code",
        "colab": {
          "base_uri": "https://localhost:8080/",
          "height": 145
        },
        "outputId": "46b24e10-63bc-4b68-fb86-6b5b8317a08e"
      },
      "source": [
        "# Check dataframe shapes\n",
        "print()\n",
        "print(\"Shape:\")\n",
        "print(\"-\"*40)\n",
        "print(\"df_all_games\\t\", df_all_games.shape, sep=\"\\t\")\n",
        "print(\"df_all_players\\t\", df_all_players.shape, sep=\"\\t\")\n",
        "print(\"df_all_gamestate\", df_all_gamestate.shape, sep=\"\\t\")\n",
        "print(\"df_all_rounds\\t\", df_all_rounds.shape, sep=\"\\t\")"
      ],
      "execution_count": 24,
      "outputs": [
        {
          "output_type": "stream",
          "text": [
            "\n",
            "Shape:\n",
            "----------------------------------------\n",
            "df_all_games\t\t(6557, 7)\n",
            "df_all_players\t\t(6557, 2)\n",
            "df_all_gamestate\t(6557, 2)\n",
            "df_all_rounds\t\t(6557, 2)\n"
          ],
          "name": "stdout"
        }
      ]
    },
    {
      "cell_type": "markdown",
      "metadata": {
        "id": "vH0eDMpewJ4M",
        "colab_type": "text"
      },
      "source": [
        "#### Create games dataframe"
      ]
    },
    {
      "cell_type": "code",
      "metadata": {
        "id": "HhdCO7uUqyK2",
        "colab_type": "code",
        "colab": {
          "base_uri": "https://localhost:8080/",
          "height": 235
        },
        "outputId": "52493468-693e-405b-b3dd-0b7f02b1e2c2"
      },
      "source": [
        "df_games = df_all_games\n",
        "df_games.info()"
      ],
      "execution_count": 62,
      "outputs": [
        {
          "output_type": "stream",
          "text": [
            "<class 'pandas.core.frame.DataFrame'>\n",
            "RangeIndex: 6557 entries, 0 to 6556\n",
            "Data columns (total 7 columns):\n",
            "SeasonName    6557 non-null object\n",
            "StartDate     6557 non-null object\n",
            "EndDate       6557 non-null object\n",
            "SeasonUrl     6557 non-null object\n",
            "GameId        6557 non-null object\n",
            "ShowNumber    6557 non-null object\n",
            "AirDate       6557 non-null object\n",
            "dtypes: object(7)\n",
            "memory usage: 358.7+ KB\n"
          ],
          "name": "stdout"
        }
      ]
    },
    {
      "cell_type": "code",
      "metadata": {
        "id": "ULMVToke9p0C",
        "colab_type": "code",
        "colab": {
          "base_uri": "https://localhost:8080/",
          "height": 235
        },
        "outputId": "248ef989-ff0c-4d66-e5f8-237e4c65b485"
      },
      "source": [
        "convert_dict = {'SeasonName': str,\n",
        "                'StartDate': str,\n",
        "                'EndDate': str,\n",
        "                'SeasonUrl': str, \n",
        "                'GameId': int,\n",
        "                'ShowNumber': str, \n",
        "                'AirDate': str}\n",
        "df_games = df_games.astype(convert_dict)\n",
        "df_games.info()"
      ],
      "execution_count": 63,
      "outputs": [
        {
          "output_type": "stream",
          "text": [
            "<class 'pandas.core.frame.DataFrame'>\n",
            "RangeIndex: 6557 entries, 0 to 6556\n",
            "Data columns (total 7 columns):\n",
            "SeasonName    6557 non-null object\n",
            "StartDate     6557 non-null object\n",
            "EndDate       6557 non-null object\n",
            "SeasonUrl     6557 non-null object\n",
            "GameId        6557 non-null int64\n",
            "ShowNumber    6557 non-null object\n",
            "AirDate       6557 non-null object\n",
            "dtypes: int64(1), object(6)\n",
            "memory usage: 358.7+ KB\n"
          ],
          "name": "stdout"
        }
      ]
    },
    {
      "cell_type": "code",
      "metadata": {
        "id": "DbKarII68VNz",
        "colab_type": "code",
        "colab": {
          "base_uri": "https://localhost:8080/",
          "height": 371
        },
        "outputId": "df1cbc87-6808-46c7-a894-80996ddbefcf"
      },
      "source": [
        "df_games.head(5)\n",
        "#download_csv('df_games.csv')"
      ],
      "execution_count": 64,
      "outputs": [
        {
          "output_type": "execute_result",
          "data": {
            "text/html": [
              "<div>\n",
              "<style scoped>\n",
              "    .dataframe tbody tr th:only-of-type {\n",
              "        vertical-align: middle;\n",
              "    }\n",
              "\n",
              "    .dataframe tbody tr th {\n",
              "        vertical-align: top;\n",
              "    }\n",
              "\n",
              "    .dataframe thead th {\n",
              "        text-align: right;\n",
              "    }\n",
              "</style>\n",
              "<table border=\"1\" class=\"dataframe\">\n",
              "  <thead>\n",
              "    <tr style=\"text-align: right;\">\n",
              "      <th></th>\n",
              "      <th>SeasonName</th>\n",
              "      <th>StartDate</th>\n",
              "      <th>EndDate</th>\n",
              "      <th>SeasonUrl</th>\n",
              "      <th>GameId</th>\n",
              "      <th>ShowNumber</th>\n",
              "      <th>AirDate</th>\n",
              "    </tr>\n",
              "  </thead>\n",
              "  <tbody>\n",
              "    <tr>\n",
              "      <th>0</th>\n",
              "      <td>Jeopardy!: The Greatest of All Time</td>\n",
              "      <td>2020-01-07</td>\n",
              "      <td>2020-01-14</td>\n",
              "      <td>http://www.j-archive.com/showseason.php?season...</td>\n",
              "      <td>6527</td>\n",
              "      <td>The Greatest of All Time game #8</td>\n",
              "      <td>2020-01-14</td>\n",
              "    </tr>\n",
              "    <tr>\n",
              "      <th>1</th>\n",
              "      <td>Jeopardy!: The Greatest of All Time</td>\n",
              "      <td>2020-01-07</td>\n",
              "      <td>2020-01-14</td>\n",
              "      <td>http://www.j-archive.com/showseason.php?season...</td>\n",
              "      <td>6526</td>\n",
              "      <td>The Greatest of All Time game #7</td>\n",
              "      <td>2020-01-14</td>\n",
              "    </tr>\n",
              "    <tr>\n",
              "      <th>2</th>\n",
              "      <td>Jeopardy!: The Greatest of All Time</td>\n",
              "      <td>2020-01-07</td>\n",
              "      <td>2020-01-14</td>\n",
              "      <td>http://www.j-archive.com/showseason.php?season...</td>\n",
              "      <td>6522</td>\n",
              "      <td>The Greatest of All Time game #6</td>\n",
              "      <td>2020-01-09</td>\n",
              "    </tr>\n",
              "    <tr>\n",
              "      <th>3</th>\n",
              "      <td>Jeopardy!: The Greatest of All Time</td>\n",
              "      <td>2020-01-07</td>\n",
              "      <td>2020-01-14</td>\n",
              "      <td>http://www.j-archive.com/showseason.php?season...</td>\n",
              "      <td>6521</td>\n",
              "      <td>The Greatest of All Time game #5</td>\n",
              "      <td>2020-01-09</td>\n",
              "    </tr>\n",
              "    <tr>\n",
              "      <th>4</th>\n",
              "      <td>Jeopardy!: The Greatest of All Time</td>\n",
              "      <td>2020-01-07</td>\n",
              "      <td>2020-01-14</td>\n",
              "      <td>http://www.j-archive.com/showseason.php?season...</td>\n",
              "      <td>6519</td>\n",
              "      <td>The Greatest of All Time game #4</td>\n",
              "      <td>2020-01-08</td>\n",
              "    </tr>\n",
              "  </tbody>\n",
              "</table>\n",
              "</div>"
            ],
            "text/plain": [
              "                            SeasonName  ...     AirDate\n",
              "0  Jeopardy!: The Greatest of All Time  ...  2020-01-14\n",
              "1  Jeopardy!: The Greatest of All Time  ...  2020-01-14\n",
              "2  Jeopardy!: The Greatest of All Time  ...  2020-01-09\n",
              "3  Jeopardy!: The Greatest of All Time  ...  2020-01-09\n",
              "4  Jeopardy!: The Greatest of All Time  ...  2020-01-08\n",
              "\n",
              "[5 rows x 7 columns]"
            ]
          },
          "metadata": {
            "tags": []
          },
          "execution_count": 64
        }
      ]
    },
    {
      "cell_type": "markdown",
      "metadata": {
        "colab_type": "text",
        "id": "Lg7OriIqwh2Q"
      },
      "source": [
        "#### Create players dataframe"
      ]
    },
    {
      "cell_type": "code",
      "metadata": {
        "id": "-uUtehP4qyK8",
        "colab_type": "code",
        "colab": {}
      },
      "source": [
        "# Create df_players\n",
        "df = df_all_players\n",
        "n_df = df.shape[0]\n",
        "n_players = 3\n",
        "columns = ['GameId', 'PlayerId', 'Name', 'NickName', 'Desc']\n",
        "keys = copy.deepcopy(columns)\n",
        "keys.pop(0)\n",
        "\n",
        "df_players = pd.DataFrame(columns=columns)\n",
        "\n",
        "\n",
        "for i in range(0, n_df):\n",
        "    gameid = df_all_players.GameId[i]\n",
        "    obj = df_all_players.Players[i]\n",
        "    \n",
        "    list_GameId = [df_all_players.GameId[i]] * n_players\n",
        "    list_PlayerId = extract_values(obj, keys[0])\n",
        "    list_Name = extract_values(obj, keys[1])\n",
        "    list_NickName = extract_values(obj, keys[2])\n",
        "    list_Desc = extract_values(obj, keys[3])\n",
        "    \n",
        "    df_temp = pd.DataFrame(list(zip(list_GameId, \n",
        "                                    list_PlayerId, \n",
        "                                    list_Name, \n",
        "                                    list_NickName, \n",
        "                                    list_Desc)), \n",
        "                           columns=columns)\n",
        "    df_players = df_players.append(df_temp, ignore_index=True)\n",
        "\n",
        "# Release unused dataframes from memory\n",
        "list_df = [df, df_all_players, df_temp]\n",
        "for i in list_df:\n",
        "    releaseDF(i)"
      ],
      "execution_count": 0,
      "outputs": []
    },
    {
      "cell_type": "code",
      "metadata": {
        "id": "A4HAuzx6_k6b",
        "colab_type": "code",
        "colab": {
          "base_uri": "https://localhost:8080/",
          "height": 199
        },
        "outputId": "b4d89fc0-1009-4913-d22f-a70279afd740"
      },
      "source": [
        "convert_dict = {'GameId': int,\n",
        "                'PlayerId': int,\n",
        "                'Name': str,\n",
        "                'NickName': str,\n",
        "                'Desc': str}\n",
        "df_players = df_players.astype(convert_dict)\n",
        "df_players.info()"
      ],
      "execution_count": 85,
      "outputs": [
        {
          "output_type": "stream",
          "text": [
            "<class 'pandas.core.frame.DataFrame'>\n",
            "RangeIndex: 19584 entries, 0 to 19583\n",
            "Data columns (total 5 columns):\n",
            "GameId      19584 non-null int64\n",
            "PlayerId    19584 non-null int64\n",
            "Name        19584 non-null object\n",
            "NickName    19584 non-null object\n",
            "Desc        19584 non-null object\n",
            "dtypes: int64(2), object(3)\n",
            "memory usage: 765.1+ KB\n"
          ],
          "name": "stdout"
        }
      ]
    },
    {
      "cell_type": "code",
      "metadata": {
        "id": "XBuP9H87Ac3S",
        "colab_type": "code",
        "colab": {
          "base_uri": "https://localhost:8080/",
          "height": 395
        },
        "outputId": "f8ee4152-6473-4dca-9fe5-3d1bbbe765f1"
      },
      "source": [
        "df_players[\"clean_Desc\"] = df_players.Desc\n",
        "df_players = text_dataprep(df_players, \"clean_Desc\")\n",
        "df_players.head(5)"
      ],
      "execution_count": 132,
      "outputs": [
        {
          "output_type": "stream",
          "text": [
            "/usr/local/lib/python3.6/dist-packages/ipykernel_launcher.py:4: SettingWithCopyWarning: \n",
            "A value is trying to be set on a copy of a slice from a DataFrame\n",
            "\n",
            "See the caveats in the documentation: http://pandas.pydata.org/pandas-docs/stable/user_guide/indexing.html#returning-a-view-versus-a-copy\n",
            "  after removing the cwd from sys.path.\n"
          ],
          "name": "stderr"
        },
        {
          "output_type": "execute_result",
          "data": {
            "text/html": [
              "<div>\n",
              "<style scoped>\n",
              "    .dataframe tbody tr th:only-of-type {\n",
              "        vertical-align: middle;\n",
              "    }\n",
              "\n",
              "    .dataframe tbody tr th {\n",
              "        vertical-align: top;\n",
              "    }\n",
              "\n",
              "    .dataframe thead th {\n",
              "        text-align: right;\n",
              "    }\n",
              "</style>\n",
              "<table border=\"1\" class=\"dataframe\">\n",
              "  <thead>\n",
              "    <tr style=\"text-align: right;\">\n",
              "      <th></th>\n",
              "      <th>GameId</th>\n",
              "      <th>PlayerId</th>\n",
              "      <th>Name</th>\n",
              "      <th>NickName</th>\n",
              "      <th>Desc</th>\n",
              "      <th>clean_Desc</th>\n",
              "    </tr>\n",
              "  </thead>\n",
              "  <tbody>\n",
              "    <tr>\n",
              "      <th>0</th>\n",
              "      <td>6527</td>\n",
              "      <td>13085</td>\n",
              "      <td>Brad Rutter</td>\n",
              "      <td>Brad</td>\n",
              "      <td>the biggest money winner from Los Angeles, Cal...</td>\n",
              "      <td>the big money winner from los angeles californ...</td>\n",
              "    </tr>\n",
              "    <tr>\n",
              "      <th>1</th>\n",
              "      <td>6527</td>\n",
              "      <td>13086</td>\n",
              "      <td>Ken Jennings</td>\n",
              "      <td>Ken</td>\n",
              "      <td>the winner of 74 consecutive games from Seattl...</td>\n",
              "      <td>the winner of 74 consecutive game from seattle...</td>\n",
              "    </tr>\n",
              "    <tr>\n",
              "      <th>2</th>\n",
              "      <td>6527</td>\n",
              "      <td>13087</td>\n",
              "      <td>James Holzhauer</td>\n",
              "      <td>James</td>\n",
              "      <td>the setter of 20 &lt;i&gt;Jeopardy!&lt;/i&gt; records from...</td>\n",
              "      <td>the setter of 20 i jeopardy i record from las ...</td>\n",
              "    </tr>\n",
              "    <tr>\n",
              "      <th>3</th>\n",
              "      <td>6526</td>\n",
              "      <td>13085</td>\n",
              "      <td>Brad Rutter</td>\n",
              "      <td>Brad</td>\n",
              "      <td>the biggest money winner from Los Angeles, Cal...</td>\n",
              "      <td>the big money winner from los angeles california</td>\n",
              "    </tr>\n",
              "    <tr>\n",
              "      <th>4</th>\n",
              "      <td>6526</td>\n",
              "      <td>13086</td>\n",
              "      <td>Ken Jennings</td>\n",
              "      <td>Ken</td>\n",
              "      <td>the winner of 74 consecutive games from Seattl...</td>\n",
              "      <td>the winner of 74 consecutive game from seattle...</td>\n",
              "    </tr>\n",
              "  </tbody>\n",
              "</table>\n",
              "</div>"
            ],
            "text/plain": [
              "   GameId  ...                                         clean_Desc\n",
              "0    6527  ...  the big money winner from los angeles californ...\n",
              "1    6527  ...  the winner of 74 consecutive game from seattle...\n",
              "2    6527  ...  the setter of 20 i jeopardy i record from las ...\n",
              "3    6526  ...   the big money winner from los angeles california\n",
              "4    6526  ...  the winner of 74 consecutive game from seattle...\n",
              "\n",
              "[5 rows x 6 columns]"
            ]
          },
          "metadata": {
            "tags": []
          },
          "execution_count": 132
        }
      ]
    },
    {
      "cell_type": "markdown",
      "metadata": {
        "id": "IImd52oSDL5O",
        "colab_type": "text"
      },
      "source": [
        "\n",
        "\n",
        "---\n",
        "\n"
      ]
    },
    {
      "cell_type": "code",
      "metadata": {
        "id": "lbVgTW8jqyLB",
        "colab_type": "code",
        "colab": {}
      },
      "source": [
        "#download_csv('df_players.csv')"
      ],
      "execution_count": 0,
      "outputs": []
    },
    {
      "cell_type": "markdown",
      "metadata": {
        "colab_type": "text",
        "id": "8HmsEq6gwlvw"
      },
      "source": [
        "#### Create game state dataframe"
      ]
    },
    {
      "cell_type": "code",
      "metadata": {
        "id": "8TbjQ2SZqyLE",
        "colab_type": "code",
        "colab": {
          "base_uri": "https://localhost:8080/",
          "height": 364
        },
        "outputId": "7d7c256c-bd55-4ae5-b4d0-9a5e30d276b8"
      },
      "source": [
        "# Create df_gamestate\n",
        "\n",
        "df = df_all_gamestate\n",
        "n_df = df.shape[0]\n",
        "columns = [\"GameId\", \"Amount\", \"PlayerId\", \"NickName\", \"TeamName\"]\n",
        "keys = copy.deepcopy(columns)\n",
        "keys.pop(0)\n",
        "\n",
        "df_gamestate = pd.DataFrame(columns=columns)\n",
        "\n",
        "\n",
        "for i in range(0, n_df):\n",
        "    df_gameid = pd.DataFrame([df_all_gamestate.GameId[i]]*n_players, columns=[\"GameId\"])\n",
        "    obj = df_all_gamestate.GameState[i]\n",
        "    \n",
        "    df_temp = json_normalize(obj, sep=\"_\")\n",
        "    df_temp.rename(columns={\"Player_PlayerId\":\"PlayerId\", \"Player_NickName\":\"NickName\", \"Player_TeamName\":\"TeamName\"}, inplace=True)\n",
        "    df_temp = pd.concat([df_gameid, df_temp], axis=1, sort=True) #Sorting because non-concatenation axis is not aligned\n",
        "    \n",
        "    df_gamestate = df_gamestate.append(df_temp, ignore_index=True)\n",
        "\n",
        "# Release unused dataframes from memory\n",
        "list_df = [df, df_all_gamestate, df_temp]\n",
        "for i in list_df:\n",
        "    releaseDF(i)"
      ],
      "execution_count": 28,
      "outputs": [
        {
          "output_type": "stream",
          "text": [
            "/usr/local/lib/python3.6/dist-packages/pandas/core/frame.py:7138: FutureWarning: Sorting because non-concatenation axis is not aligned. A future version\n",
            "of pandas will change to not sort by default.\n",
            "\n",
            "To accept the future behavior, pass 'sort=False'.\n",
            "\n",
            "To retain the current behavior and silence the warning, pass 'sort=True'.\n",
            "\n",
            "  sort=sort,\n"
          ],
          "name": "stderr"
        },
        {
          "output_type": "execute_result",
          "data": {
            "text/html": [
              "<div>\n",
              "<style scoped>\n",
              "    .dataframe tbody tr th:only-of-type {\n",
              "        vertical-align: middle;\n",
              "    }\n",
              "\n",
              "    .dataframe tbody tr th {\n",
              "        vertical-align: top;\n",
              "    }\n",
              "\n",
              "    .dataframe thead th {\n",
              "        text-align: right;\n",
              "    }\n",
              "</style>\n",
              "<table border=\"1\" class=\"dataframe\">\n",
              "  <thead>\n",
              "    <tr style=\"text-align: right;\">\n",
              "      <th></th>\n",
              "      <th>Amount</th>\n",
              "      <th>GameId</th>\n",
              "      <th>NickName</th>\n",
              "      <th>PlayerId</th>\n",
              "      <th>TeamName</th>\n",
              "    </tr>\n",
              "  </thead>\n",
              "  <tbody>\n",
              "    <tr>\n",
              "      <th>0</th>\n",
              "      <td>1400.0</td>\n",
              "      <td>6527</td>\n",
              "      <td>Brad</td>\n",
              "      <td>13085</td>\n",
              "      <td>NaN</td>\n",
              "    </tr>\n",
              "    <tr>\n",
              "      <th>1</th>\n",
              "      <td>23000.0</td>\n",
              "      <td>6527</td>\n",
              "      <td>Ken</td>\n",
              "      <td>13086</td>\n",
              "      <td>NaN</td>\n",
              "    </tr>\n",
              "    <tr>\n",
              "      <th>2</th>\n",
              "      <td>NaN</td>\n",
              "      <td>6527</td>\n",
              "      <td>James</td>\n",
              "      <td>13087</td>\n",
              "      <td>NaN</td>\n",
              "    </tr>\n",
              "    <tr>\n",
              "      <th>3</th>\n",
              "      <td>NaN</td>\n",
              "      <td>6526</td>\n",
              "      <td>Brad</td>\n",
              "      <td>13085</td>\n",
              "      <td>NaN</td>\n",
              "    </tr>\n",
              "    <tr>\n",
              "      <th>4</th>\n",
              "      <td>65600.0</td>\n",
              "      <td>6526</td>\n",
              "      <td>Ken</td>\n",
              "      <td>13086</td>\n",
              "      <td>NaN</td>\n",
              "    </tr>\n",
              "  </tbody>\n",
              "</table>\n",
              "</div>"
            ],
            "text/plain": [
              "    Amount GameId NickName PlayerId TeamName\n",
              "0   1400.0   6527     Brad    13085      NaN\n",
              "1  23000.0   6527      Ken    13086      NaN\n",
              "2      NaN   6527    James    13087      NaN\n",
              "3      NaN   6526     Brad    13085      NaN\n",
              "4  65600.0   6526      Ken    13086      NaN"
            ]
          },
          "metadata": {
            "tags": []
          },
          "execution_count": 28
        }
      ]
    },
    {
      "cell_type": "code",
      "metadata": {
        "id": "7dbuUnfTLwMd",
        "colab_type": "code",
        "colab": {
          "base_uri": "https://localhost:8080/",
          "height": 198
        },
        "outputId": "9663fb22-bb92-441a-b5f0-b55121d5ca2e"
      },
      "source": [
        "df_gamestate.head(5)"
      ],
      "execution_count": 135,
      "outputs": [
        {
          "output_type": "execute_result",
          "data": {
            "text/html": [
              "<div>\n",
              "<style scoped>\n",
              "    .dataframe tbody tr th:only-of-type {\n",
              "        vertical-align: middle;\n",
              "    }\n",
              "\n",
              "    .dataframe tbody tr th {\n",
              "        vertical-align: top;\n",
              "    }\n",
              "\n",
              "    .dataframe thead th {\n",
              "        text-align: right;\n",
              "    }\n",
              "</style>\n",
              "<table border=\"1\" class=\"dataframe\">\n",
              "  <thead>\n",
              "    <tr style=\"text-align: right;\">\n",
              "      <th></th>\n",
              "      <th>Amount</th>\n",
              "      <th>GameId</th>\n",
              "      <th>NickName</th>\n",
              "      <th>PlayerId</th>\n",
              "      <th>TeamName</th>\n",
              "    </tr>\n",
              "  </thead>\n",
              "  <tbody>\n",
              "    <tr>\n",
              "      <th>0</th>\n",
              "      <td>1400.0</td>\n",
              "      <td>6527</td>\n",
              "      <td>Brad</td>\n",
              "      <td>13085</td>\n",
              "      <td>NaN</td>\n",
              "    </tr>\n",
              "    <tr>\n",
              "      <th>1</th>\n",
              "      <td>23000.0</td>\n",
              "      <td>6527</td>\n",
              "      <td>Ken</td>\n",
              "      <td>13086</td>\n",
              "      <td>NaN</td>\n",
              "    </tr>\n",
              "    <tr>\n",
              "      <th>2</th>\n",
              "      <td>NaN</td>\n",
              "      <td>6527</td>\n",
              "      <td>James</td>\n",
              "      <td>13087</td>\n",
              "      <td>NaN</td>\n",
              "    </tr>\n",
              "    <tr>\n",
              "      <th>3</th>\n",
              "      <td>NaN</td>\n",
              "      <td>6526</td>\n",
              "      <td>Brad</td>\n",
              "      <td>13085</td>\n",
              "      <td>NaN</td>\n",
              "    </tr>\n",
              "    <tr>\n",
              "      <th>4</th>\n",
              "      <td>65600.0</td>\n",
              "      <td>6526</td>\n",
              "      <td>Ken</td>\n",
              "      <td>13086</td>\n",
              "      <td>NaN</td>\n",
              "    </tr>\n",
              "  </tbody>\n",
              "</table>\n",
              "</div>"
            ],
            "text/plain": [
              "    Amount GameId NickName PlayerId TeamName\n",
              "0   1400.0   6527     Brad    13085      NaN\n",
              "1  23000.0   6527      Ken    13086      NaN\n",
              "2      NaN   6527    James    13087      NaN\n",
              "3      NaN   6526     Brad    13085      NaN\n",
              "4  65600.0   6526      Ken    13086      NaN"
            ]
          },
          "metadata": {
            "tags": []
          },
          "execution_count": 135
        }
      ]
    },
    {
      "cell_type": "code",
      "metadata": {
        "id": "LQSaafacqyLI",
        "colab_type": "code",
        "colab": {}
      },
      "source": [
        "# Leave NaN values for Amount and TeamName\n",
        "#download_csv('df_gamestate.csv')"
      ],
      "execution_count": 0,
      "outputs": []
    },
    {
      "cell_type": "markdown",
      "metadata": {
        "colab_type": "text",
        "id": "rC5BU7MOwrBg"
      },
      "source": [
        "#### Create rounds dataframe"
      ]
    },
    {
      "cell_type": "code",
      "metadata": {
        "id": "TcmnH352qyLL",
        "colab_type": "code",
        "colab": {
          "base_uri": "https://localhost:8080/",
          "height": 183
        },
        "outputId": "b0ce4900-925c-4b4d-ed20-6a51317e4426"
      },
      "source": [
        "# Create df_rounds\n",
        "df = df_all_rounds\n",
        "n_df = df.shape[0]\n",
        "columns = ['GameId', 'Categories', 'Clues', 'GameState', 'HasScoreCorrection', 'RoundType']\n",
        "keys = copy.deepcopy(columns)\n",
        "keys.pop(0)\n",
        "\n",
        "df_rounds = pd.DataFrame(columns=columns)\n",
        "\n",
        "for i in range(0, n_df):\n",
        "    gameid = df_all_rounds.GameId[i]\n",
        "    obj = df_all_rounds.Rounds[i]\n",
        "    \n",
        "    df_temp = json_normalize(obj, sep=\"_\")\n",
        "    df_gameid = pd.DataFrame([gameid] * df_temp.shape[0], columns=[\"GameId\"])\n",
        "    df_temp = pd.concat([df_gameid, df_temp], axis=1)\n",
        "    \n",
        "    df_rounds = df_rounds.append(df_temp, ignore_index=True)\n",
        "\n",
        "# Release unused dataframes from memory\n",
        "list_df = [df, df_all_rounds, df_gameid]\n",
        "for i in list_df:\n",
        "    releaseDF(i)\n",
        "    \n",
        "df_rounds = df_rounds[['GameId', 'RoundType', 'HasScoreCorrection', 'Categories', 'Clues', 'GameState']]"
      ],
      "execution_count": 30,
      "outputs": [
        {
          "output_type": "stream",
          "text": [
            "/usr/local/lib/python3.6/dist-packages/pandas/core/frame.py:7138: FutureWarning: Sorting because non-concatenation axis is not aligned. A future version\n",
            "of pandas will change to not sort by default.\n",
            "\n",
            "To accept the future behavior, pass 'sort=False'.\n",
            "\n",
            "To retain the current behavior and silence the warning, pass 'sort=True'.\n",
            "\n",
            "  sort=sort,\n"
          ],
          "name": "stderr"
        }
      ]
    },
    {
      "cell_type": "code",
      "metadata": {
        "scrolled": false,
        "id": "1FKVzD_4qyLO",
        "colab_type": "code",
        "colab": {
          "base_uri": "https://localhost:8080/",
          "height": 319
        },
        "outputId": "05d4d0b6-b0f4-47cc-972c-63657076a543"
      },
      "source": [
        "# Replace NaN values in RountType with \"First Round\"\n",
        "df_rounds[\"RoundType\"].fillna(\"First Round\", inplace = True) \n",
        "\n",
        "# Replace NaN values in HasScoreCorrection with \"False\"\n",
        "df_rounds[\"HasScoreCorrection\"].fillna(False, inplace = True) \n",
        "\n",
        "df_rounds.head(5)"
      ],
      "execution_count": 31,
      "outputs": [
        {
          "output_type": "execute_result",
          "data": {
            "text/html": [
              "<div>\n",
              "<style scoped>\n",
              "    .dataframe tbody tr th:only-of-type {\n",
              "        vertical-align: middle;\n",
              "    }\n",
              "\n",
              "    .dataframe tbody tr th {\n",
              "        vertical-align: top;\n",
              "    }\n",
              "\n",
              "    .dataframe thead th {\n",
              "        text-align: right;\n",
              "    }\n",
              "</style>\n",
              "<table border=\"1\" class=\"dataframe\">\n",
              "  <thead>\n",
              "    <tr style=\"text-align: right;\">\n",
              "      <th></th>\n",
              "      <th>GameId</th>\n",
              "      <th>RoundType</th>\n",
              "      <th>HasScoreCorrection</th>\n",
              "      <th>Categories</th>\n",
              "      <th>Clues</th>\n",
              "      <th>GameState</th>\n",
              "    </tr>\n",
              "  </thead>\n",
              "  <tbody>\n",
              "    <tr>\n",
              "      <th>0</th>\n",
              "      <td>6527</td>\n",
              "      <td>First Round</td>\n",
              "      <td>False</td>\n",
              "      <td>[{'Name': 'BROADWAY', 'Order': 1}, {'Name': 'N...</td>\n",
              "      <td>[{'Order': 1, 'Category': {'Name': 'LITERARY T...</td>\n",
              "      <td>[{'Player': {'PlayerId': 13085, 'NickName': 'B...</td>\n",
              "    </tr>\n",
              "    <tr>\n",
              "      <th>1</th>\n",
              "      <td>6527</td>\n",
              "      <td>Double Jeopardy</td>\n",
              "      <td>False</td>\n",
              "      <td>[{'Name': 'ONCE UPON A TIME IN HOLLYWOOD', 'Or...</td>\n",
              "      <td>[{'Order': 1, 'Category': {'Name': 'SURPRISE M...</td>\n",
              "      <td>[{'Player': {'PlayerId': 13087, 'NickName': 'J...</td>\n",
              "    </tr>\n",
              "    <tr>\n",
              "      <th>2</th>\n",
              "      <td>6527</td>\n",
              "      <td>Final Jeopardy</td>\n",
              "      <td>False</td>\n",
              "      <td>[{'Name': 'SHAKESPEARE'S TRAGEDIES', 'Order': 1}]</td>\n",
              "      <td>[{'Category': {'Name': 'SHAKESPEARE'S TRAGEDIE...</td>\n",
              "      <td>[{'Player': {'PlayerId': 13085, 'NickName': 'B...</td>\n",
              "    </tr>\n",
              "    <tr>\n",
              "      <th>3</th>\n",
              "      <td>6526</td>\n",
              "      <td>First Round</td>\n",
              "      <td>False</td>\n",
              "      <td>[{'Name': 'MODERN FAMILY', 'Order': 1}, {'Name...</td>\n",
              "      <td>[{'Order': 1, 'Category': {'Name': 'KNIGHT LIN...</td>\n",
              "      <td>[{'Player': {'PlayerId': 13085, 'NickName': 'B...</td>\n",
              "    </tr>\n",
              "    <tr>\n",
              "      <th>4</th>\n",
              "      <td>6526</td>\n",
              "      <td>Double Jeopardy</td>\n",
              "      <td>False</td>\n",
              "      <td>[{'Name': 'THE WORLD ACCORDING TO KAREEM', 'Or...</td>\n",
              "      <td>[{'Order': 1, 'Category': {'Name': 'HISTORY', ...</td>\n",
              "      <td>[{'Player': {'PlayerId': 13087, 'NickName': 'J...</td>\n",
              "    </tr>\n",
              "  </tbody>\n",
              "</table>\n",
              "</div>"
            ],
            "text/plain": [
              "  GameId  ...                                          GameState\n",
              "0   6527  ...  [{'Player': {'PlayerId': 13085, 'NickName': 'B...\n",
              "1   6527  ...  [{'Player': {'PlayerId': 13087, 'NickName': 'J...\n",
              "2   6527  ...  [{'Player': {'PlayerId': 13085, 'NickName': 'B...\n",
              "3   6526  ...  [{'Player': {'PlayerId': 13085, 'NickName': 'B...\n",
              "4   6526  ...  [{'Player': {'PlayerId': 13087, 'NickName': 'J...\n",
              "\n",
              "[5 rows x 6 columns]"
            ]
          },
          "metadata": {
            "tags": []
          },
          "execution_count": 31
        }
      ]
    },
    {
      "cell_type": "markdown",
      "metadata": {
        "colab_type": "text",
        "id": "EoFyg7emwyjX"
      },
      "source": [
        "#### Create categories dataframe"
      ]
    },
    {
      "cell_type": "code",
      "metadata": {
        "id": "imD0fYVdqyLU",
        "colab_type": "code",
        "colab": {
          "base_uri": "https://localhost:8080/",
          "height": 198
        },
        "outputId": "3261c831-ed12-42de-f903-5168a19f265d"
      },
      "source": [
        "# Create df_categories\n",
        "\n",
        "df_categories = df_rounds.copy(deep=True)\n",
        "df_categories = df_categories[['GameId', 'RoundType', 'HasScoreCorrection', 'Categories']]\n",
        "df_categories = flattenColumn(df_categories, \"Categories\")\n",
        "df_categories.reset_index(inplace=True)\n",
        "df_categories = df_categories.drop(columns=[\"index\"])\n",
        "df_categories_norm = json_normalize(df_categories[\"Categories\"])\n",
        "\n",
        "df_categories_merge = df_categories.merge(df_categories_norm, left_index=True, right_index=True)\n",
        "df_categories = df_categories_merge.drop(columns=[\"Categories\"])\n",
        "df_categories.rename(columns={\"Name\":\"CategoryName\"}, inplace=True)\n",
        "\n",
        "# Release unused dataframes from memory\n",
        "list_df = [df_categories_norm, df_categories_merge]\n",
        "for i in list_df:\n",
        "    releaseDF(i)\n"
      ],
      "execution_count": 32,
      "outputs": [
        {
          "output_type": "execute_result",
          "data": {
            "text/html": [
              "<div>\n",
              "<style scoped>\n",
              "    .dataframe tbody tr th:only-of-type {\n",
              "        vertical-align: middle;\n",
              "    }\n",
              "\n",
              "    .dataframe tbody tr th {\n",
              "        vertical-align: top;\n",
              "    }\n",
              "\n",
              "    .dataframe thead th {\n",
              "        text-align: right;\n",
              "    }\n",
              "</style>\n",
              "<table border=\"1\" class=\"dataframe\">\n",
              "  <thead>\n",
              "    <tr style=\"text-align: right;\">\n",
              "      <th></th>\n",
              "      <th>GameId</th>\n",
              "      <th>RoundType</th>\n",
              "      <th>HasScoreCorrection</th>\n",
              "      <th>CategoryName</th>\n",
              "      <th>Order</th>\n",
              "    </tr>\n",
              "  </thead>\n",
              "  <tbody>\n",
              "    <tr>\n",
              "      <th>0</th>\n",
              "      <td>6527</td>\n",
              "      <td>First Round</td>\n",
              "      <td>False</td>\n",
              "      <td>BROADWAY</td>\n",
              "      <td>1</td>\n",
              "    </tr>\n",
              "    <tr>\n",
              "      <th>1</th>\n",
              "      <td>6527</td>\n",
              "      <td>First Round</td>\n",
              "      <td>False</td>\n",
              "      <td>NONSENSE WORDS</td>\n",
              "      <td>2</td>\n",
              "    </tr>\n",
              "    <tr>\n",
              "      <th>2</th>\n",
              "      <td>6527</td>\n",
              "      <td>First Round</td>\n",
              "      <td>False</td>\n",
              "      <td>LITERARY TERMS &amp; DEVICES</td>\n",
              "      <td>3</td>\n",
              "    </tr>\n",
              "    <tr>\n",
              "      <th>3</th>\n",
              "      <td>6527</td>\n",
              "      <td>First Round</td>\n",
              "      <td>False</td>\n",
              "      <td>THE GREATEST CANADIANS OF ALL TIME</td>\n",
              "      <td>4</td>\n",
              "    </tr>\n",
              "    <tr>\n",
              "      <th>4</th>\n",
              "      <td>6527</td>\n",
              "      <td>First Round</td>\n",
              "      <td>False</td>\n",
              "      <td>MATH TO ROMAN NUMERALS TO INITIALS TO NAMES</td>\n",
              "      <td>5</td>\n",
              "    </tr>\n",
              "  </tbody>\n",
              "</table>\n",
              "</div>"
            ],
            "text/plain": [
              "  GameId    RoundType  ...                                 CategoryName Order\n",
              "0   6527  First Round  ...                                     BROADWAY     1\n",
              "1   6527  First Round  ...                               NONSENSE WORDS     2\n",
              "2   6527  First Round  ...                     LITERARY TERMS & DEVICES     3\n",
              "3   6527  First Round  ...           THE GREATEST CANADIANS OF ALL TIME     4\n",
              "4   6527  First Round  ...  MATH TO ROMAN NUMERALS TO INITIALS TO NAMES     5\n",
              "\n",
              "[5 rows x 5 columns]"
            ]
          },
          "metadata": {
            "tags": []
          },
          "execution_count": 32
        }
      ]
    },
    {
      "cell_type": "code",
      "metadata": {
        "id": "vXgLEiS0MkBG",
        "colab_type": "code",
        "colab": {
          "base_uri": "https://localhost:8080/",
          "height": 199
        },
        "outputId": "9cc19d8d-135e-4629-e451-86c3b56ccb62"
      },
      "source": [
        "convert_dict = {'GameId': int,\n",
        "                'RoundType': str, \n",
        "                'HasScoreCorrection': bool,\n",
        "                'CategoryName': str,\n",
        "                'Order':int}\n",
        "df_categories = df_categories.astype(convert_dict)\n",
        "df_categories.info()"
      ],
      "execution_count": 137,
      "outputs": [
        {
          "output_type": "stream",
          "text": [
            "<class 'pandas.core.frame.DataFrame'>\n",
            "RangeIndex: 84760 entries, 0 to 84759\n",
            "Data columns (total 5 columns):\n",
            "GameId                84760 non-null int64\n",
            "RoundType             84760 non-null object\n",
            "HasScoreCorrection    84760 non-null bool\n",
            "CategoryName          84760 non-null object\n",
            "Order                 84760 non-null int64\n",
            "dtypes: bool(1), int64(2), object(2)\n",
            "memory usage: 2.7+ MB\n"
          ],
          "name": "stdout"
        }
      ]
    },
    {
      "cell_type": "code",
      "metadata": {
        "id": "uf1fa-K_NC8W",
        "colab_type": "code",
        "colab": {
          "base_uri": "https://localhost:8080/",
          "height": 395
        },
        "outputId": "1e0656e3-a9fe-4109-c050-9cae161613a2"
      },
      "source": [
        "df_categories[\"clean_CategoryName\"] = df_categories.CategoryName\n",
        "df_categories = text_dataprep(df_categories, \"clean_CategoryName\")\n",
        "df_categories.head(5)"
      ],
      "execution_count": 138,
      "outputs": [
        {
          "output_type": "stream",
          "text": [
            "/usr/local/lib/python3.6/dist-packages/ipykernel_launcher.py:4: SettingWithCopyWarning: \n",
            "A value is trying to be set on a copy of a slice from a DataFrame\n",
            "\n",
            "See the caveats in the documentation: http://pandas.pydata.org/pandas-docs/stable/user_guide/indexing.html#returning-a-view-versus-a-copy\n",
            "  after removing the cwd from sys.path.\n"
          ],
          "name": "stderr"
        },
        {
          "output_type": "execute_result",
          "data": {
            "text/html": [
              "<div>\n",
              "<style scoped>\n",
              "    .dataframe tbody tr th:only-of-type {\n",
              "        vertical-align: middle;\n",
              "    }\n",
              "\n",
              "    .dataframe tbody tr th {\n",
              "        vertical-align: top;\n",
              "    }\n",
              "\n",
              "    .dataframe thead th {\n",
              "        text-align: right;\n",
              "    }\n",
              "</style>\n",
              "<table border=\"1\" class=\"dataframe\">\n",
              "  <thead>\n",
              "    <tr style=\"text-align: right;\">\n",
              "      <th></th>\n",
              "      <th>GameId</th>\n",
              "      <th>RoundType</th>\n",
              "      <th>HasScoreCorrection</th>\n",
              "      <th>CategoryName</th>\n",
              "      <th>Order</th>\n",
              "      <th>clean_CategoryName</th>\n",
              "    </tr>\n",
              "  </thead>\n",
              "  <tbody>\n",
              "    <tr>\n",
              "      <th>0</th>\n",
              "      <td>6527</td>\n",
              "      <td>First Round</td>\n",
              "      <td>False</td>\n",
              "      <td>BROADWAY</td>\n",
              "      <td>1</td>\n",
              "      <td>broadway</td>\n",
              "    </tr>\n",
              "    <tr>\n",
              "      <th>1</th>\n",
              "      <td>6527</td>\n",
              "      <td>First Round</td>\n",
              "      <td>False</td>\n",
              "      <td>NONSENSE WORDS</td>\n",
              "      <td>2</td>\n",
              "      <td>nonsense word</td>\n",
              "    </tr>\n",
              "    <tr>\n",
              "      <th>2</th>\n",
              "      <td>6527</td>\n",
              "      <td>First Round</td>\n",
              "      <td>False</td>\n",
              "      <td>LITERARY TERMS &amp; DEVICES</td>\n",
              "      <td>3</td>\n",
              "      <td>literary term device</td>\n",
              "    </tr>\n",
              "    <tr>\n",
              "      <th>3</th>\n",
              "      <td>6527</td>\n",
              "      <td>First Round</td>\n",
              "      <td>False</td>\n",
              "      <td>THE GREATEST CANADIANS OF ALL TIME</td>\n",
              "      <td>4</td>\n",
              "      <td>the great canadian of all time</td>\n",
              "    </tr>\n",
              "    <tr>\n",
              "      <th>4</th>\n",
              "      <td>6527</td>\n",
              "      <td>First Round</td>\n",
              "      <td>False</td>\n",
              "      <td>MATH TO ROMAN NUMERALS TO INITIALS TO NAMES</td>\n",
              "      <td>5</td>\n",
              "      <td>math to roman numeral to initial to name</td>\n",
              "    </tr>\n",
              "  </tbody>\n",
              "</table>\n",
              "</div>"
            ],
            "text/plain": [
              "   GameId    RoundType  ...  Order                        clean_CategoryName\n",
              "0    6527  First Round  ...      1                                  broadway\n",
              "1    6527  First Round  ...      2                             nonsense word\n",
              "2    6527  First Round  ...      3                      literary term device\n",
              "3    6527  First Round  ...      4            the great canadian of all time\n",
              "4    6527  First Round  ...      5  math to roman numeral to initial to name\n",
              "\n",
              "[5 rows x 6 columns]"
            ]
          },
          "metadata": {
            "tags": []
          },
          "execution_count": 138
        }
      ]
    },
    {
      "cell_type": "code",
      "metadata": {
        "id": "SFlGQqkMqyLX",
        "colab_type": "code",
        "colab": {}
      },
      "source": [
        "#download_csv('df_categories.csv')"
      ],
      "execution_count": 0,
      "outputs": []
    },
    {
      "cell_type": "markdown",
      "metadata": {
        "colab_type": "text",
        "id": "ZCtjQ3fpw4fg"
      },
      "source": [
        "#### Create categories dataframe"
      ]
    },
    {
      "cell_type": "code",
      "metadata": {
        "id": "7uzubaw4qyLa",
        "colab_type": "code",
        "colab": {
          "base_uri": "https://localhost:8080/",
          "height": 198
        },
        "outputId": "ee656af3-8dd1-4d42-bb8d-33e8e2c622c1"
      },
      "source": [
        "# Create df_gamescore\n",
        "## THIS SHOULD YIELD THE SAME RESULT AS df_gamestate\n",
        "## CHECK THIS\n",
        "\n",
        "df_gamescore = df_rounds.copy(deep=True)\n",
        "df_gamescore = df_gamescore[['GameId', 'RoundType', 'HasScoreCorrection', 'GameState']]\n",
        "df_gamescore = flattenColumn(df_gamescore, \"GameState\")\n",
        "df_gamescore.reset_index(inplace=True)\n",
        "df_gamescore = df_gamescore.drop(columns=[\"index\"])\n",
        "df_gamescore_norm = json_normalize(df_gamescore[\"GameState\"])\n",
        "\n",
        "df_gamescore_merge = df_gamescore.merge(df_gamescore_norm, left_index=True, right_index=True)\n",
        "df_gamescore = df_gamescore_merge.drop(columns=[\"GameState\"])\n",
        "df_gamescore.columns = df_gamescore.columns.map(lambda x: x.split(\".\")[-1]) # Remove .prefix of column name\n",
        "\n",
        "# Release unused dataframes from memory\n",
        "list_df = [df_gamescore_norm, df_gamescore_merge]\n",
        "for i in list_df:\n",
        "    releaseDF(i)\n",
        "\n",
        "df_gamescore.head(5)"
      ],
      "execution_count": 34,
      "outputs": [
        {
          "output_type": "execute_result",
          "data": {
            "text/html": [
              "<div>\n",
              "<style scoped>\n",
              "    .dataframe tbody tr th:only-of-type {\n",
              "        vertical-align: middle;\n",
              "    }\n",
              "\n",
              "    .dataframe tbody tr th {\n",
              "        vertical-align: top;\n",
              "    }\n",
              "\n",
              "    .dataframe thead th {\n",
              "        text-align: right;\n",
              "    }\n",
              "</style>\n",
              "<table border=\"1\" class=\"dataframe\">\n",
              "  <thead>\n",
              "    <tr style=\"text-align: right;\">\n",
              "      <th></th>\n",
              "      <th>GameId</th>\n",
              "      <th>RoundType</th>\n",
              "      <th>HasScoreCorrection</th>\n",
              "      <th>Amount</th>\n",
              "      <th>PlayerId</th>\n",
              "      <th>NickName</th>\n",
              "      <th>TeamName</th>\n",
              "    </tr>\n",
              "  </thead>\n",
              "  <tbody>\n",
              "    <tr>\n",
              "      <th>0</th>\n",
              "      <td>6527</td>\n",
              "      <td>First Round</td>\n",
              "      <td>False</td>\n",
              "      <td>1000.0</td>\n",
              "      <td>13085</td>\n",
              "      <td>Brad</td>\n",
              "      <td>NaN</td>\n",
              "    </tr>\n",
              "    <tr>\n",
              "      <th>1</th>\n",
              "      <td>6527</td>\n",
              "      <td>First Round</td>\n",
              "      <td>False</td>\n",
              "      <td>5600.0</td>\n",
              "      <td>13086</td>\n",
              "      <td>Ken</td>\n",
              "      <td>NaN</td>\n",
              "    </tr>\n",
              "    <tr>\n",
              "      <th>2</th>\n",
              "      <td>6527</td>\n",
              "      <td>First Round</td>\n",
              "      <td>False</td>\n",
              "      <td>8200.0</td>\n",
              "      <td>13087</td>\n",
              "      <td>James</td>\n",
              "      <td>NaN</td>\n",
              "    </tr>\n",
              "    <tr>\n",
              "      <th>3</th>\n",
              "      <td>6527</td>\n",
              "      <td>Double Jeopardy</td>\n",
              "      <td>False</td>\n",
              "      <td>44000.0</td>\n",
              "      <td>13087</td>\n",
              "      <td>James</td>\n",
              "      <td>NaN</td>\n",
              "    </tr>\n",
              "    <tr>\n",
              "      <th>4</th>\n",
              "      <td>6527</td>\n",
              "      <td>Double Jeopardy</td>\n",
              "      <td>False</td>\n",
              "      <td>23000.0</td>\n",
              "      <td>13086</td>\n",
              "      <td>Ken</td>\n",
              "      <td>NaN</td>\n",
              "    </tr>\n",
              "  </tbody>\n",
              "</table>\n",
              "</div>"
            ],
            "text/plain": [
              "  GameId        RoundType  HasScoreCorrection  ...  PlayerId  NickName TeamName\n",
              "0   6527      First Round               False  ...     13085      Brad      NaN\n",
              "1   6527      First Round               False  ...     13086       Ken      NaN\n",
              "2   6527      First Round               False  ...     13087     James      NaN\n",
              "3   6527  Double Jeopardy               False  ...     13087     James      NaN\n",
              "4   6527  Double Jeopardy               False  ...     13086       Ken      NaN\n",
              "\n",
              "[5 rows x 7 columns]"
            ]
          },
          "metadata": {
            "tags": []
          },
          "execution_count": 34
        }
      ]
    },
    {
      "cell_type": "code",
      "metadata": {
        "id": "qABoi9CqqyLd",
        "colab_type": "code",
        "colab": {}
      },
      "source": [
        "# Leave TeamName NaNs as is\n",
        "#download_csv('df_gamescore.csv')"
      ],
      "execution_count": 0,
      "outputs": []
    },
    {
      "cell_type": "markdown",
      "metadata": {
        "colab_type": "text",
        "id": "ClXBI8gaw_Vg"
      },
      "source": [
        "#### Create clues dataframe"
      ]
    },
    {
      "cell_type": "code",
      "metadata": {
        "scrolled": true,
        "id": "JrRzRiHxqyLg",
        "colab_type": "code",
        "colab": {}
      },
      "source": [
        "# Create df_clues\n",
        "\n",
        "df_clues = df_rounds.copy(deep=True)\n",
        "df_clues = df_clues[['GameId', 'RoundType', 'HasScoreCorrection', 'Clues']]\n",
        "\n",
        "df_clues = flattenColumn(df_clues, \"Clues\")\n",
        "df_clues.reset_index(inplace=True)\n",
        "df_clues = df_clues.drop(columns=[\"index\"])\n",
        "\n",
        "df_clues_norm1 = json_normalize(df_clues[\"Clues\"])\n",
        "df_clues_merge = df_clues.merge(df_clues_norm1, left_index=True, right_index=True)\n",
        "df_clues = df_clues_merge.drop(columns=[\"Clues\"])\n",
        "\n",
        "df_clues = flattenColumn(df_clues, \"PlayerAnswers\")\n",
        "df_clues.reset_index(inplace=True)\n",
        "df_clues = df_clues.drop(columns=[\"index\"])\n",
        "\n",
        "df_clues_norm2 = json_normalize(df_clues[\"PlayerAnswers\"])\n",
        "df_clues_merge = df_clues.merge(df_clues_norm2, left_index=True, right_index=True)\n",
        "df_clues = df_clues_merge.drop(columns=[\"PlayerAnswers\"])\n",
        "\n",
        "df_clues = flattenColumn(df_clues, \"GameState\")\n",
        "df_clues.reset_index(inplace=True)\n",
        "df_clues = df_clues.drop(columns=[\"index\"])\n",
        "\n",
        "df_clues_norm3 = json_normalize(df_clues[\"GameState\"])\n",
        "df_clues_merge = df_clues.merge(df_clues_norm3, left_index=True, right_index=True)\n",
        "df_clues = df_clues_merge.drop(columns=[\"GameState\"])\n",
        "\n",
        "# Release unused dataframes from memory\n",
        "list_df = [df_clues_norm1, df_clues_norm2, df_clues_norm3, df_clues_merge]\n",
        "for i in list_df:\n",
        "    releaseDF(i)"
      ],
      "execution_count": 0,
      "outputs": []
    },
    {
      "cell_type": "code",
      "metadata": {
        "id": "d34DqeylzvtL",
        "colab_type": "code",
        "colab": {
          "base_uri": "https://localhost:8080/",
          "height": 512
        },
        "outputId": "a76e301a-5de3-40cc-8705-267a513124f7"
      },
      "source": [
        "df_clues.head(5)"
      ],
      "execution_count": 37,
      "outputs": [
        {
          "output_type": "execute_result",
          "data": {
            "text/html": [
              "<div>\n",
              "<style scoped>\n",
              "    .dataframe tbody tr th:only-of-type {\n",
              "        vertical-align: middle;\n",
              "    }\n",
              "\n",
              "    .dataframe tbody tr th {\n",
              "        vertical-align: top;\n",
              "    }\n",
              "\n",
              "    .dataframe thead th {\n",
              "        text-align: right;\n",
              "    }\n",
              "</style>\n",
              "<table border=\"1\" class=\"dataframe\">\n",
              "  <thead>\n",
              "    <tr style=\"text-align: right;\">\n",
              "      <th></th>\n",
              "      <th>GameId</th>\n",
              "      <th>RoundType</th>\n",
              "      <th>HasScoreCorrection</th>\n",
              "      <th>Order_x</th>\n",
              "      <th>Amount_x</th>\n",
              "      <th>Question</th>\n",
              "      <th>CorrectAnswer</th>\n",
              "      <th>Category.Name</th>\n",
              "      <th>Category.Order</th>\n",
              "      <th>AlexComment</th>\n",
              "      <th>IsDailyDouble</th>\n",
              "      <th>QuestionHasMedia</th>\n",
              "      <th>QuestionMediaLink</th>\n",
              "      <th>IsNeverSeen</th>\n",
              "      <th>Order_y</th>\n",
              "      <th>Answer</th>\n",
              "      <th>Wager</th>\n",
              "      <th>Player.PlayerId_x</th>\n",
              "      <th>Player.NickName_x</th>\n",
              "      <th>IsIncorrect</th>\n",
              "      <th>Player.TeamName_x</th>\n",
              "      <th>Player.PlayerId_y</th>\n",
              "      <th>Player.NickName_y</th>\n",
              "      <th>Amount_y</th>\n",
              "      <th>Player.TeamName_y</th>\n",
              "    </tr>\n",
              "  </thead>\n",
              "  <tbody>\n",
              "    <tr>\n",
              "      <th>0</th>\n",
              "      <td>6527</td>\n",
              "      <td>First Round</td>\n",
              "      <td>False</td>\n",
              "      <td>1.0</td>\n",
              "      <td>800.0</td>\n",
              "      <td>Greek for \"exaggeration\" gives us this device,...</td>\n",
              "      <td>hyperbole</td>\n",
              "      <td>LITERARY TERMS &amp; DEVICES</td>\n",
              "      <td>3</td>\n",
              "      <td>NaN</td>\n",
              "      <td>NaN</td>\n",
              "      <td>NaN</td>\n",
              "      <td>NaN</td>\n",
              "      <td>NaN</td>\n",
              "      <td>1</td>\n",
              "      <td>hyperbole</td>\n",
              "      <td>800.0</td>\n",
              "      <td>13087</td>\n",
              "      <td>James</td>\n",
              "      <td>NaN</td>\n",
              "      <td>NaN</td>\n",
              "      <td>13085</td>\n",
              "      <td>Brad</td>\n",
              "      <td>NaN</td>\n",
              "      <td>NaN</td>\n",
              "    </tr>\n",
              "    <tr>\n",
              "      <th>1</th>\n",
              "      <td>6527</td>\n",
              "      <td>First Round</td>\n",
              "      <td>False</td>\n",
              "      <td>1.0</td>\n",
              "      <td>800.0</td>\n",
              "      <td>Greek for \"exaggeration\" gives us this device,...</td>\n",
              "      <td>hyperbole</td>\n",
              "      <td>LITERARY TERMS &amp; DEVICES</td>\n",
              "      <td>3</td>\n",
              "      <td>NaN</td>\n",
              "      <td>NaN</td>\n",
              "      <td>NaN</td>\n",
              "      <td>NaN</td>\n",
              "      <td>NaN</td>\n",
              "      <td>1</td>\n",
              "      <td>hyperbole</td>\n",
              "      <td>800.0</td>\n",
              "      <td>13087</td>\n",
              "      <td>James</td>\n",
              "      <td>NaN</td>\n",
              "      <td>NaN</td>\n",
              "      <td>13086</td>\n",
              "      <td>Ken</td>\n",
              "      <td>NaN</td>\n",
              "      <td>NaN</td>\n",
              "    </tr>\n",
              "    <tr>\n",
              "      <th>2</th>\n",
              "      <td>6527</td>\n",
              "      <td>First Round</td>\n",
              "      <td>False</td>\n",
              "      <td>1.0</td>\n",
              "      <td>800.0</td>\n",
              "      <td>Greek for \"exaggeration\" gives us this device,...</td>\n",
              "      <td>hyperbole</td>\n",
              "      <td>LITERARY TERMS &amp; DEVICES</td>\n",
              "      <td>3</td>\n",
              "      <td>NaN</td>\n",
              "      <td>NaN</td>\n",
              "      <td>NaN</td>\n",
              "      <td>NaN</td>\n",
              "      <td>NaN</td>\n",
              "      <td>1</td>\n",
              "      <td>hyperbole</td>\n",
              "      <td>800.0</td>\n",
              "      <td>13087</td>\n",
              "      <td>James</td>\n",
              "      <td>NaN</td>\n",
              "      <td>NaN</td>\n",
              "      <td>13087</td>\n",
              "      <td>James</td>\n",
              "      <td>800.0</td>\n",
              "      <td>NaN</td>\n",
              "    </tr>\n",
              "    <tr>\n",
              "      <th>3</th>\n",
              "      <td>6527</td>\n",
              "      <td>First Round</td>\n",
              "      <td>False</td>\n",
              "      <td>2.0</td>\n",
              "      <td>1000.0</td>\n",
              "      <td>102 minus 10 to this Latin bandleader, \"The Ru...</td>\n",
              "      <td>Xavier Cugat</td>\n",
              "      <td>MATH TO ROMAN NUMERALS TO INITIALS TO NAMES</td>\n",
              "      <td>5</td>\n",
              "      <td>Yes--90, XC.</td>\n",
              "      <td>NaN</td>\n",
              "      <td>NaN</td>\n",
              "      <td>NaN</td>\n",
              "      <td>NaN</td>\n",
              "      <td>1</td>\n",
              "      <td>Xavier Cugat</td>\n",
              "      <td>1000.0</td>\n",
              "      <td>13086</td>\n",
              "      <td>Ken</td>\n",
              "      <td>NaN</td>\n",
              "      <td>NaN</td>\n",
              "      <td>13085</td>\n",
              "      <td>Brad</td>\n",
              "      <td>NaN</td>\n",
              "      <td>NaN</td>\n",
              "    </tr>\n",
              "    <tr>\n",
              "      <th>4</th>\n",
              "      <td>6527</td>\n",
              "      <td>First Round</td>\n",
              "      <td>False</td>\n",
              "      <td>2.0</td>\n",
              "      <td>1000.0</td>\n",
              "      <td>102 minus 10 to this Latin bandleader, \"The Ru...</td>\n",
              "      <td>Xavier Cugat</td>\n",
              "      <td>MATH TO ROMAN NUMERALS TO INITIALS TO NAMES</td>\n",
              "      <td>5</td>\n",
              "      <td>Yes--90, XC.</td>\n",
              "      <td>NaN</td>\n",
              "      <td>NaN</td>\n",
              "      <td>NaN</td>\n",
              "      <td>NaN</td>\n",
              "      <td>1</td>\n",
              "      <td>Xavier Cugat</td>\n",
              "      <td>1000.0</td>\n",
              "      <td>13086</td>\n",
              "      <td>Ken</td>\n",
              "      <td>NaN</td>\n",
              "      <td>NaN</td>\n",
              "      <td>13086</td>\n",
              "      <td>Ken</td>\n",
              "      <td>1000.0</td>\n",
              "      <td>NaN</td>\n",
              "    </tr>\n",
              "  </tbody>\n",
              "</table>\n",
              "</div>"
            ],
            "text/plain": [
              "  GameId    RoundType  ...  Amount_y  Player.TeamName_y\n",
              "0   6527  First Round  ...       NaN                NaN\n",
              "1   6527  First Round  ...       NaN                NaN\n",
              "2   6527  First Round  ...     800.0                NaN\n",
              "3   6527  First Round  ...       NaN                NaN\n",
              "4   6527  First Round  ...    1000.0                NaN\n",
              "\n",
              "[5 rows x 25 columns]"
            ]
          },
          "metadata": {
            "tags": []
          },
          "execution_count": 37
        }
      ]
    },
    {
      "cell_type": "code",
      "metadata": {
        "id": "QXKw3i5hqyLl",
        "colab_type": "code",
        "colab": {}
      },
      "source": [
        "df_clues.rename(columns={\"Category.Name\": \"CategoryName\",\n",
        "                         \"Category.Order\": \"CategoryOrder\",\n",
        "                         \"Player.PlayerId_x\": \"PlayerId_x\",\n",
        "                         \"Player.NickName_x\": \"NickName_x\",\n",
        "                         \"Player.TeamName_x\": \"TeamName_x\",\n",
        "                         \"Player.PlayerId_y\": \"PlayerId_y\",\n",
        "                         \"Player.NickName_y\": \"NickName_y\",\n",
        "                         \"Player.TeamName_y\": \"TeamName_y\",\n",
        "                        },\n",
        "                inplace=True)"
      ],
      "execution_count": 0,
      "outputs": []
    },
    {
      "cell_type": "code",
      "metadata": {
        "id": "c5I9BvqbqyLq",
        "colab_type": "code",
        "colab": {}
      },
      "source": [
        "# Replace NaN values in IsIncorrect with \"False\"\n",
        "df_clues[\"IsIncorrect\"].fillna(False, inplace = True)\n",
        "\n",
        "# Replace NaN values in IsDailyDouble with \"False\"\n",
        "df_clues[\"IsDailyDouble\"].fillna(False, inplace = True)"
      ],
      "execution_count": 0,
      "outputs": []
    },
    {
      "cell_type": "code",
      "metadata": {
        "id": "dGnK3CdRqyLv",
        "colab_type": "code",
        "colab": {}
      },
      "source": [
        "## Leave NaNs in:\n",
        "##    Amount_x\n",
        "##    Order_x\n",
        "##    AlexComment\n",
        "##\n",
        "#df_clues.Order_x.unique()           # NaNs represent questions not played.\n",
        "#df_clues.Amount_x.unique()          # NaNs represent questions not played.\n",
        "#df_clues.AlexComment.unique() \n",
        "#df_clues.QuestionMediaLink.unique() # NaNs represent questions not played."
      ],
      "execution_count": 0,
      "outputs": []
    },
    {
      "cell_type": "code",
      "metadata": {
        "id": "92E5HwGEqyL1",
        "colab_type": "code",
        "colab": {
          "base_uri": "https://localhost:8080/",
          "height": 512
        },
        "outputId": "14d4cecb-358c-41ec-8a75-248ae78b16a0"
      },
      "source": [
        "df_clues.head(5)"
      ],
      "execution_count": 41,
      "outputs": [
        {
          "output_type": "execute_result",
          "data": {
            "text/html": [
              "<div>\n",
              "<style scoped>\n",
              "    .dataframe tbody tr th:only-of-type {\n",
              "        vertical-align: middle;\n",
              "    }\n",
              "\n",
              "    .dataframe tbody tr th {\n",
              "        vertical-align: top;\n",
              "    }\n",
              "\n",
              "    .dataframe thead th {\n",
              "        text-align: right;\n",
              "    }\n",
              "</style>\n",
              "<table border=\"1\" class=\"dataframe\">\n",
              "  <thead>\n",
              "    <tr style=\"text-align: right;\">\n",
              "      <th></th>\n",
              "      <th>GameId</th>\n",
              "      <th>RoundType</th>\n",
              "      <th>HasScoreCorrection</th>\n",
              "      <th>Order_x</th>\n",
              "      <th>Amount_x</th>\n",
              "      <th>Question</th>\n",
              "      <th>CorrectAnswer</th>\n",
              "      <th>CategoryName</th>\n",
              "      <th>CategoryOrder</th>\n",
              "      <th>AlexComment</th>\n",
              "      <th>IsDailyDouble</th>\n",
              "      <th>QuestionHasMedia</th>\n",
              "      <th>QuestionMediaLink</th>\n",
              "      <th>IsNeverSeen</th>\n",
              "      <th>Order_y</th>\n",
              "      <th>Answer</th>\n",
              "      <th>Wager</th>\n",
              "      <th>PlayerId_x</th>\n",
              "      <th>NickName_x</th>\n",
              "      <th>IsIncorrect</th>\n",
              "      <th>TeamName_x</th>\n",
              "      <th>PlayerId_y</th>\n",
              "      <th>NickName_y</th>\n",
              "      <th>Amount_y</th>\n",
              "      <th>TeamName_y</th>\n",
              "    </tr>\n",
              "  </thead>\n",
              "  <tbody>\n",
              "    <tr>\n",
              "      <th>0</th>\n",
              "      <td>6527</td>\n",
              "      <td>First Round</td>\n",
              "      <td>False</td>\n",
              "      <td>1.0</td>\n",
              "      <td>800.0</td>\n",
              "      <td>Greek for \"exaggeration\" gives us this device,...</td>\n",
              "      <td>hyperbole</td>\n",
              "      <td>LITERARY TERMS &amp; DEVICES</td>\n",
              "      <td>3</td>\n",
              "      <td>NaN</td>\n",
              "      <td>False</td>\n",
              "      <td>NaN</td>\n",
              "      <td>NaN</td>\n",
              "      <td>NaN</td>\n",
              "      <td>1</td>\n",
              "      <td>hyperbole</td>\n",
              "      <td>800.0</td>\n",
              "      <td>13087</td>\n",
              "      <td>James</td>\n",
              "      <td>False</td>\n",
              "      <td>NaN</td>\n",
              "      <td>13085</td>\n",
              "      <td>Brad</td>\n",
              "      <td>NaN</td>\n",
              "      <td>NaN</td>\n",
              "    </tr>\n",
              "    <tr>\n",
              "      <th>1</th>\n",
              "      <td>6527</td>\n",
              "      <td>First Round</td>\n",
              "      <td>False</td>\n",
              "      <td>1.0</td>\n",
              "      <td>800.0</td>\n",
              "      <td>Greek for \"exaggeration\" gives us this device,...</td>\n",
              "      <td>hyperbole</td>\n",
              "      <td>LITERARY TERMS &amp; DEVICES</td>\n",
              "      <td>3</td>\n",
              "      <td>NaN</td>\n",
              "      <td>False</td>\n",
              "      <td>NaN</td>\n",
              "      <td>NaN</td>\n",
              "      <td>NaN</td>\n",
              "      <td>1</td>\n",
              "      <td>hyperbole</td>\n",
              "      <td>800.0</td>\n",
              "      <td>13087</td>\n",
              "      <td>James</td>\n",
              "      <td>False</td>\n",
              "      <td>NaN</td>\n",
              "      <td>13086</td>\n",
              "      <td>Ken</td>\n",
              "      <td>NaN</td>\n",
              "      <td>NaN</td>\n",
              "    </tr>\n",
              "    <tr>\n",
              "      <th>2</th>\n",
              "      <td>6527</td>\n",
              "      <td>First Round</td>\n",
              "      <td>False</td>\n",
              "      <td>1.0</td>\n",
              "      <td>800.0</td>\n",
              "      <td>Greek for \"exaggeration\" gives us this device,...</td>\n",
              "      <td>hyperbole</td>\n",
              "      <td>LITERARY TERMS &amp; DEVICES</td>\n",
              "      <td>3</td>\n",
              "      <td>NaN</td>\n",
              "      <td>False</td>\n",
              "      <td>NaN</td>\n",
              "      <td>NaN</td>\n",
              "      <td>NaN</td>\n",
              "      <td>1</td>\n",
              "      <td>hyperbole</td>\n",
              "      <td>800.0</td>\n",
              "      <td>13087</td>\n",
              "      <td>James</td>\n",
              "      <td>False</td>\n",
              "      <td>NaN</td>\n",
              "      <td>13087</td>\n",
              "      <td>James</td>\n",
              "      <td>800.0</td>\n",
              "      <td>NaN</td>\n",
              "    </tr>\n",
              "    <tr>\n",
              "      <th>3</th>\n",
              "      <td>6527</td>\n",
              "      <td>First Round</td>\n",
              "      <td>False</td>\n",
              "      <td>2.0</td>\n",
              "      <td>1000.0</td>\n",
              "      <td>102 minus 10 to this Latin bandleader, \"The Ru...</td>\n",
              "      <td>Xavier Cugat</td>\n",
              "      <td>MATH TO ROMAN NUMERALS TO INITIALS TO NAMES</td>\n",
              "      <td>5</td>\n",
              "      <td>Yes--90, XC.</td>\n",
              "      <td>False</td>\n",
              "      <td>NaN</td>\n",
              "      <td>NaN</td>\n",
              "      <td>NaN</td>\n",
              "      <td>1</td>\n",
              "      <td>Xavier Cugat</td>\n",
              "      <td>1000.0</td>\n",
              "      <td>13086</td>\n",
              "      <td>Ken</td>\n",
              "      <td>False</td>\n",
              "      <td>NaN</td>\n",
              "      <td>13085</td>\n",
              "      <td>Brad</td>\n",
              "      <td>NaN</td>\n",
              "      <td>NaN</td>\n",
              "    </tr>\n",
              "    <tr>\n",
              "      <th>4</th>\n",
              "      <td>6527</td>\n",
              "      <td>First Round</td>\n",
              "      <td>False</td>\n",
              "      <td>2.0</td>\n",
              "      <td>1000.0</td>\n",
              "      <td>102 minus 10 to this Latin bandleader, \"The Ru...</td>\n",
              "      <td>Xavier Cugat</td>\n",
              "      <td>MATH TO ROMAN NUMERALS TO INITIALS TO NAMES</td>\n",
              "      <td>5</td>\n",
              "      <td>Yes--90, XC.</td>\n",
              "      <td>False</td>\n",
              "      <td>NaN</td>\n",
              "      <td>NaN</td>\n",
              "      <td>NaN</td>\n",
              "      <td>1</td>\n",
              "      <td>Xavier Cugat</td>\n",
              "      <td>1000.0</td>\n",
              "      <td>13086</td>\n",
              "      <td>Ken</td>\n",
              "      <td>False</td>\n",
              "      <td>NaN</td>\n",
              "      <td>13086</td>\n",
              "      <td>Ken</td>\n",
              "      <td>1000.0</td>\n",
              "      <td>NaN</td>\n",
              "    </tr>\n",
              "  </tbody>\n",
              "</table>\n",
              "</div>"
            ],
            "text/plain": [
              "  GameId    RoundType  HasScoreCorrection  ...  NickName_y  Amount_y TeamName_y\n",
              "0   6527  First Round               False  ...        Brad       NaN        NaN\n",
              "1   6527  First Round               False  ...         Ken       NaN        NaN\n",
              "2   6527  First Round               False  ...       James     800.0        NaN\n",
              "3   6527  First Round               False  ...        Brad       NaN        NaN\n",
              "4   6527  First Round               False  ...         Ken    1000.0        NaN\n",
              "\n",
              "[5 rows x 25 columns]"
            ]
          },
          "metadata": {
            "tags": []
          },
          "execution_count": 41
        }
      ]
    },
    {
      "cell_type": "code",
      "metadata": {
        "id": "XOPJI9plqyL6",
        "colab_type": "code",
        "colab": {}
      },
      "source": [
        "#download_csv('df_clues.csv')"
      ],
      "execution_count": 0,
      "outputs": []
    }
  ]
}